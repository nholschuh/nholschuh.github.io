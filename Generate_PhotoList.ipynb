{
 "cells": [
  {
   "cell_type": "code",
   "execution_count": 1,
   "id": "b9988a19-20d5-4bca-afd4-c2b7abcc8414",
   "metadata": {},
   "outputs": [],
   "source": [
    "import glob\n"
   ]
  },
  {
   "cell_type": "code",
   "execution_count": 3,
   "id": "f75b2980-1d4f-4022-a471-548b5ff58204",
   "metadata": {},
   "outputs": [
    {
     "name": "stdout",
     "output_type": "stream",
     "text": [
      "<img src=\"/images/Antarctic_1819/00_FieldTeam.jpg\">\n",
      "<img src=\"/images/Antarctic_1819/01_FieldTeam.jpg\">\n",
      "<img src=\"/images/Antarctic_1819/EJS_2918.JPG\">\n",
      "<img src=\"/images/Antarctic_1819/IMG_20181127_101110.jpg\">\n",
      "<img src=\"/images/Antarctic_1819/IMG_20181127_144657.jpg\">\n",
      "<img src=\"/images/Antarctic_1819/IMG_20181127_160847.jpg\">\n",
      "<img src=\"/images/Antarctic_1819/IMG_20181129_220603.jpg\">\n",
      "<img src=\"/images/Antarctic_1819/IMG_20181202_103101.jpg\">\n",
      "<img src=\"/images/Antarctic_1819/IMG_20181205_164856.jpg\">\n",
      "<img src=\"/images/Antarctic_1819/IMG_20181208_153636.jpg\">\n",
      "<img src=\"/images/Antarctic_1819/IMG_20181212_224914.jpg\">\n",
      "<img src=\"/images/Antarctic_1819/IMG_20181222_115921.jpg\">\n",
      "<img src=\"/images/Antarctic_1819/IMG_20181222_193422.jpg\">\n",
      "<img src=\"/images/Antarctic_1819/IMG_20181225_113837.jpg\">\n",
      "<img src=\"/images/Antarctic_1819/IMG_20181225_114211.jpg\">\n",
      "<img src=\"/images/Antarctic_1819/IMG_20181225_114256.jpg\">\n",
      "<img src=\"/images/Antarctic_1819/IMG_20181225_114606.jpg\">\n",
      "<img src=\"/images/Antarctic_1819/IMG_20181225_114929.jpg\">\n",
      "<img src=\"/images/Antarctic_1819/IMG_20181225_192031.jpg\">\n",
      "<img src=\"/images/Antarctic_1819/IMG_20181229_165515.jpg\">\n",
      "<img src=\"/images/Antarctic_1819/IMG_20190102_084538.jpg\">\n",
      "<img src=\"/images/Antarctic_1819/IMG_20190103_101844.jpg\">\n",
      "<img src=\"/images/Antarctic_1819/IMG_20190106_165823.jpg\">\n",
      "<img src=\"/images/Antarctic_1819/IMG_20190109_163009.jpg\">\n",
      "<img src=\"/images/Antarctic_1819/IMG_20190109_170521.jpg\">\n",
      "<img src=\"/images/Antarctic_1819/IMG_20190110_134031.jpg\">\n",
      "<img src=\"/images/Antarctic_1819/IMG_20190112_165638.jpg\">\n",
      "<img src=\"/images/Antarctic_1819/IMG_20190114_080248.jpg\">\n",
      "<img src=\"/images/Antarctic_1819/IMG_20190114_082244.jpg\">\n",
      "<img src=\"/images/Antarctic_1819/IMG_20190114_093033.jpg\">\n",
      "<img src=\"/images/Antarctic_1819/IMG_20190118_132236.jpg\">\n",
      "<img src=\"/images/Antarctic_1819/IMG_20190118_132357.jpg\">\n",
      "<img src=\"/images/Antarctic_1819/IMG_20190121_133851.jpg\">\n",
      "<img src=\"/images/Antarctic_1819/IMG_20190121_134712.jpg\">\n",
      "<img src=\"/images/Antarctic_1819/IMG_20190121_134728.jpg\">\n",
      "<img src=\"/images/Antarctic_1819/IMG_20190121_135346.jpg\">\n",
      "<img src=\"/images/Antarctic_1819/IMG_20190121_143126.jpg\">\n",
      "<img src=\"/images/Antarctic_1819/IMG_20190121_143207.jpg\">\n",
      "<img src=\"/images/Antarctic_1819/IMG_20190122_092330.jpg\">\n",
      "<img src=\"/images/Antarctic_1819/IMG_20190122_094209.jpg\">\n",
      "<img src=\"/images/Antarctic_1819/IMG_20190122_125653_edited.jpg\">\n",
      "<img src=\"/images/Antarctic_1819/IMG_20190130_130359.jpg\">\n",
      "<img src=\"/images/Antarctic_1819/IMG_20190130_131831.jpg\">\n",
      "<img src=\"/images/Antarctic_1819/IMG_20190131_141758.jpg\">\n",
      "<img src=\"/images/Antarctic_1819/IMG_20190131_143246.jpg\">\n",
      "<img src=\"/images/Antarctic_1819/IMG_20190131_144251.jpg\">\n",
      "<img src=\"/images/Antarctic_1819/IMG_20190201_130940.jpg\">\n"
     ]
    }
   ],
   "source": [
    "imagelist_1 = sorted(glob.glob('./images/Antarctic_1819/*'))\n",
    "for im in imagelist_1:\n",
    "    print('<img src=\"'+im[1:]+'\">')"
   ]
  },
  {
   "cell_type": "code",
   "execution_count": null,
   "id": "b122b3e9-2a7f-4a68-91ab-db5078c83998",
   "metadata": {},
   "outputs": [],
   "source": []
  }
 ],
 "metadata": {
  "kernelspec": {
   "display_name": "Python 3 (ipykernel)",
   "language": "python",
   "name": "python3"
  },
  "language_info": {
   "codemirror_mode": {
    "name": "ipython",
    "version": 3
   },
   "file_extension": ".py",
   "mimetype": "text/x-python",
   "name": "python",
   "nbconvert_exporter": "python",
   "pygments_lexer": "ipython3",
   "version": "3.9.21"
  }
 },
 "nbformat": 4,
 "nbformat_minor": 5
}
